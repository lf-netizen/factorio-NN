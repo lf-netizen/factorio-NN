{
 "cells": [
  {
   "cell_type": "code",
   "execution_count": 3,
   "metadata": {},
   "outputs": [],
   "source": [
    "import tensorflow as tf\n",
    "import numpy as np\n",
    "import matplotlib.pyplot as plt\n",
    "import pandas as pd"
   ]
  },
  {
   "cell_type": "code",
   "execution_count": 4,
   "metadata": {},
   "outputs": [],
   "source": [
    "# model = tf.keras.models.load_model('simple_center-2-32-2022-07-16-0104.model')\n",
    "# model = tf.keras.models.load_model('newest-2-32-2022-09-14-2351.model')\n",
    "model = tf.keras.models.load_model('Dense-2-32-2023-01-04-1045.model')\n",
    "NN_id = 1"
   ]
  },
  {
   "cell_type": "code",
   "execution_count": 5,
   "metadata": {},
   "outputs": [],
   "source": [
    "with open(\"function.lua\", \"r\") as f:\n",
    "    func = f.read()\n",
    "\n",
    "with open(\"script.txt\", \"w\") as f:\n",
    "    f.write(f\"/c\\n  {func}\\n\")\n",
    "\n",
    "    F = 10e6\n",
    "    factor_weights = [1, 10e-4, 10e-4]\n",
    "    factor_biases = [1, 10e-2, 10e-4]\n",
    "\n",
    "    prefix= 'local count = {'\n",
    "    suffix= '}'\n",
    "\n",
    "    for it, layer in enumerate(model.layers[1:]):\n",
    "        params = layer.get_weights()\n",
    "        weights, biases = params[0], params[1]\n",
    "        weights = (weights * F).astype('int')\n",
    "        biases = (biases * F).astype('int')\n",
    "\n",
    "        if it > 0:\n",
    "            weights = weights.T\n",
    "        \n",
    "        weights = weights.flatten()\n",
    "\n",
    "        txt_weights = prefix + np.array2string(weights, max_line_width=np.inf, separator=',', threshold=np.inf)[1:-1] + suffix\n",
    "        txt_biases  = prefix + np.array2string(biases,  max_line_width=np.inf, separator=',', threshold=np.inf)[1:-1] + suffix\n",
    "        \n",
    "        f.write(txt_weights)\n",
    "        f.write(f\"\\nset_combinators(count, {factor_weights[it]}, '{it}', 'W', '{NN_id}'\" + ')\\n')\n",
    "        f.write(txt_biases)\n",
    "        f.write(f\"\\nset_combinators(count, {factor_biases[it]},'{it}', 'B', '{NN_id}'\" + ')\\n')\n"
   ]
  },
  {
   "cell_type": "code",
   "execution_count": 6,
   "metadata": {},
   "outputs": [],
   "source": [
    "# for it, layer in enumerate(model.layers[1:]):\n",
    "#     params = layer.get_weights()\n",
    "#     weights, biases = params[0], params[1]\n",
    "\n",
    "#     # print(weights[0, :] * F * factor_weights[-1])\n",
    "#     print(f'WA{it}', weights.mean())\n",
    "#     print(f'BA{it}', biases.mean())\n",
    "#     print(f'WS{it}', weights.sum())\n",
    "#     print(f'BS{it}', biases.sum())"
   ]
  },
  {
   "cell_type": "code",
   "execution_count": 7,
   "metadata": {},
   "outputs": [],
   "source": [
    "# for it, layer in enumerate(model.layers[1:]):\n",
    "#     weights, biases = layer.get_weights()\n",
    "#     print(f'Layer {it}', weights.shape)\n",
    "#     print(weights, '\\n\\n', biases)\n"
   ]
  },
  {
   "cell_type": "code",
   "execution_count": 8,
   "metadata": {},
   "outputs": [],
   "source": [
    "w1, b1 = model.layers[1].get_weights()\n",
    "w2, b2 = model.layers[2].get_weights()\n",
    "w3, b3 = model.layers[3].get_weights()"
   ]
  }
 ],
 "metadata": {
  "kernelspec": {
   "display_name": "ml",
   "language": "python",
   "name": "python3"
  },
  "language_info": {
   "codemirror_mode": {
    "name": "ipython",
    "version": 3
   },
   "file_extension": ".py",
   "mimetype": "text/x-python",
   "name": "python",
   "nbconvert_exporter": "python",
   "pygments_lexer": "ipython3",
   "version": "3.10.4 | packaged by conda-forge | (main, Mar 30 2022, 08:38:02) [MSC v.1916 64 bit (AMD64)]"
  },
  "orig_nbformat": 4,
  "vscode": {
   "interpreter": {
    "hash": "575b27b03c8f4938561cc9027b66655be84e7082a51e87d8eb0fbf4ab5514768"
   }
  }
 },
 "nbformat": 4,
 "nbformat_minor": 2
}
