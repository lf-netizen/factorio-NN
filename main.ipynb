{
 "cells": [
  {
   "cell_type": "code",
   "execution_count": 1,
   "metadata": {},
   "outputs": [],
   "source": [
    "import tensorflow as tf\n",
    "import numpy as np\n",
    "import matplotlib.pyplot as plt\n",
    "from sklearn.metrics import classification_report\n",
    "import cv2\n",
    "from scipy import ndimage\n",
    "import random\n",
    "import pickle\n",
    "import datetime\n",
    "from tensorflow.keras.models import Sequential\n",
    "from tensorflow.keras.layers import Dense, Flatten, Dropout, LSTM, Conv2D, MaxPooling2D\n",
    "from tensorflow.keras.callbacks import TensorBoard"
   ]
  },
  {
   "cell_type": "code",
   "execution_count": 2,
   "metadata": {},
   "outputs": [],
   "source": [
    "# def transform(img, resize=False, offset=False, rotate=False):\n",
    "#     imgs = []\n",
    "#     old_size = img.shape[0]\n",
    "#     if resize:\n",
    "#         new_size = np.random.randint(18, 22)\n",
    "#         resized_content = cv2.resize(img, (new_size, new_size))\n",
    "        \n",
    "#         img_resized = np.zeros_like(img)\n",
    "#         img_resized[int(old_size//2 - new_size//2) : int(old_size//2 - new_size//2) + new_size, int(old_size//2 - new_size//2) : int(old_size//2 - new_size//2) + new_size] = resized_content\n",
    "#         img_resized = np.round(img_resized)\n",
    "#         imgs.append(img_resized)\n",
    "        \n",
    "#         if offset:\n",
    "#             off_x = np.random.randint(1, (old_size - new_size) // 2)\n",
    "#             off_y = np.random.randint(1, (old_size - new_size) // 2)\n",
    "#             for sign_x, sign_y in [(1, 1), (-1, 1), (1, -1), (-1, -1)]:\n",
    "#                 img_offset = np.zeros_like(img)\n",
    "#                 img_offset[int(old_size//2 - new_size//2) + sign_x * off_x : int(old_size//2 - new_size//2) + sign_x * off_x + new_size, int(old_size//2 - new_size//2) + sign_y * off_y : int(old_size//2 - new_size//2) + sign_y * off_y + new_size] = resized_content\n",
    "#                 img_offset = np.round(img_offset)\n",
    "#                 imgs.append(img_offset)\n",
    "\n",
    "#     if rotate:\n",
    "#         angle = np.random.randint(10, 20)\n",
    "#         for angle in [angle, -angle]:\n",
    "#             img_rotated = ndimage.rotate(img, angle, reshape=False)\n",
    "#             # img_rotated = cv2.resize(img_rotated, (old_size, old_size))\n",
    "#             img_rotated = np.round(img_rotated)\n",
    "#             imgs.append(img_rotated)\n",
    "        \n",
    "#     return imgs\n",
    "\n",
    "def transform(img):\n",
    "    imgs = []\n",
    "\n",
    "    old_size = img.shape[0]\n",
    "    new_size = np.random.randint(18, 22)\n",
    "    img_resized = np.round(cv2.resize(img, (new_size, new_size)))\n",
    "\n",
    "    img_center = np.zeros_like(img)\n",
    "    img_center[int(old_size//2 - new_size//2) : int(old_size//2 - new_size//2) + new_size, int(old_size//2 - new_size//2) : int(old_size//2 - new_size//2) + new_size] = img_resized\n",
    "    imgs.append(img_center)\n",
    "\n",
    "    nz_rows, nz_cols = np.nonzero(img_resized)\n",
    "    left, right, up, down = min(nz_cols), max(nz_cols), min(nz_rows), max(nz_rows)\n",
    "    slice = img_resized[up:down+1, left:right+1]\n",
    "    \n",
    "    slice_width, slice_height = slice.shape\n",
    "\n",
    "    img_offset = np.zeros_like(img)\n",
    "    img_offset[(old_size//2-slice_width//2):(old_size//2-slice_width//2 + slice_width), 2:slice_height+2] = slice\n",
    "    # imgs.append(img_offset)\n",
    "    img_offset = np.zeros_like(img)\n",
    "    img_offset[(old_size//2-slice_width//2):(old_size//2-slice_width//2 + slice_width), -slice_height-2:-2] = slice\n",
    "    # imgs.append(img_offset)\n",
    "\n",
    "    return imgs"
   ]
  },
  {
   "cell_type": "code",
   "execution_count": 3,
   "metadata": {},
   "outputs": [],
   "source": [
    "mnist = tf.keras.datasets.mnist\n",
    "\n",
    "(x_train, y_train), (x_test, y_test) = mnist.load_data()\n",
    "\n",
    "x_train = tf.keras.utils.normalize(x_train, axis=1)\n",
    "x_test = tf.keras.utils.normalize(x_test, axis=1)\n",
    "\n",
    "x_train = np.where(x_train > 0.15, np.ones_like(x_train), np.zeros_like(x_train))\n",
    "x_test = np.where(x_test > 0.15, np.ones_like(x_test), np.zeros_like(x_test))\n",
    "\n",
    "# TESTING\n",
    "# begin = np.random.randint(9980)\n",
    "# print(begin)\n",
    "# for i in range(begin, begin + 10):\n",
    "#     plt.figure()\n",
    "#     plt.imshow(x_train[i], cmap='gray')\n",
    "#     plt.xticks([]), plt.yticks([])\n",
    "#     plt.show()\n",
    "\n",
    "#     imgs = transform(x_train[i])\n",
    "#     for img_t in imgs:\n",
    "#         plt.figure()\n",
    "#         plt.imshow(img_t, cmap='gray')\n",
    "#         plt.xticks([]), plt.yticks([])\n",
    "#         plt.show()\n",
    "\n",
    "x_train_ext = []\n",
    "y_train_ext = []\n",
    "x_test_ext = []\n",
    "y_test_ext = []\n",
    "\n",
    "train_size = len(x_train)\n",
    "test_size = len(x_test)\n",
    "for it in range(train_size):\n",
    "    img = x_train[it]\n",
    "    imgs_transformed = transform(img)\n",
    "    num_imgs = len(imgs_transformed)\n",
    "    x_train_ext.extend(imgs_transformed)\n",
    "    y_train_ext += [y_train[it]] * num_imgs\n",
    "\n",
    "for it in range(test_size):\n",
    "    img = x_test[it]\n",
    "    imgs_transformed = transform(img)\n",
    "    num_imgs = len(imgs_transformed)\n",
    "    x_test_ext.extend(imgs_transformed)\n",
    "    y_test_ext += [y_test[it]] * num_imgs\n",
    "\n",
    "\n",
    "\n",
    "# include original images in the final dataset\n",
    "x_train = np.concatenate((x_train, np.stack(x_train_ext)), axis=0)\n",
    "y_train = np.concatenate((y_train, y_train_ext))\n",
    "\n",
    "x_test = np.concatenate((x_test, np.stack(x_test_ext)), axis=0)\n",
    "y_test = np.concatenate((y_test, y_test_ext))\n",
    "\n",
    "\n",
    "\n",
    "train = [(x, y) for x, y in zip(x_train_ext, y_train_ext)]\n",
    "test = [(x, y) for x, y in zip(x_test_ext, y_test_ext)]\n",
    "\n",
    "random.shuffle(train)\n",
    "random.shuffle(test)\n",
    "\n",
    "x_train, y_train = [], []\n",
    "x_test, y_test = [], []\n",
    "\n",
    "for x, y in train:\n",
    "    x_train.append(x)\n",
    "    y_train.append(y)\n",
    "for x, y in test:\n",
    "    x_test.append(x)\n",
    "    y_test.append(y)\n",
    "\n",
    "\n",
    "x_train = np.asarray(np.stack(x_train, axis=0))\n",
    "y_train = np.asarray(y_train)\n",
    "\n",
    "x_test = np.asarray(np.stack(x_test, axis=0))\n",
    "y_test = np.asarray(y_test)\n",
    "\n",
    "# pickle_out = open('x_train.pickle', 'wb')\n",
    "# pickle.dump(np.array(x_train), pickle_out)\n",
    "# pickle_out.close()\n",
    "# pickle_out = open('x_test.pickle', 'wb')\n",
    "# pickle.dump(np.array(x_test), pickle_out)\n",
    "# pickle_out.close()\n",
    "\n",
    "# pickle_out = open('y_train.pickle', 'wb')\n",
    "# pickle.dump(np.array(y_train), pickle_out)\n",
    "# pickle_out.close()\n",
    "# pickle_out = open('y_test.pickle', 'wb')\n",
    "# pickle.dump(np.array(y_test), pickle_out)\n",
    "# pickle_out.close()"
   ]
  },
  {
   "cell_type": "code",
   "execution_count": 4,
   "metadata": {},
   "outputs": [],
   "source": [
    "def create_model_dense(num_of_layers, layer_size):\n",
    "    model = Sequential()\n",
    "    model.add(Flatten())\n",
    "    for _ in range(num_of_layers):\n",
    "        model.add(Dense(layer_size, activation=tf.nn.relu))\n",
    "    model.add(Dense(10, activation=tf.nn.softmax))\n",
    "\n",
    "    return model\n",
    "\n",
    "def create_model_conv(num_of_layers, layer_size):\n",
    "    model = Sequential()\n",
    "\n",
    "    model.add(Conv2D(256, (3, 3), input_shape=x_train.shape[1:], activation=tf.nn.relu))\n",
    "    model.add(MaxPooling2D(pool_size=(2, 2)))\n",
    "\n",
    "    model.add(Flatten())\n",
    "\n",
    "    for _ in range(num_of_layers):\n",
    "        model.add(Dense(layer_size, activation=tf.nn.relu))\n",
    "    model.add(Dense(10, activation=tf.nn.softmax))\n",
    "\n",
    "    return model\n",
    "\n",
    "def create_model_RNN(nmu_of_layers, layer_size):\n",
    "    model = Sequential()\n",
    "\n",
    "    model.add(LSTM(128, input_shape=(x_train.shape[1:]), activation='relu', return_sequences=True))\n",
    "    model.add(Dropout(0.2))\n",
    "    \n",
    "    model.add(LSTM(128, activation='relu'))\n",
    "    model.add(Dropout(0.1))\n",
    "\n",
    "    model.add(Dense(32, activation='relu'))\n",
    "    model.add(Dropout(0.2))\n",
    "\n",
    "    model.add(Dense(10, activation='softmax'))\n",
    "\n",
    "    return model"
   ]
  },
  {
   "cell_type": "code",
   "execution_count": 5,
   "metadata": {},
   "outputs": [],
   "source": [
    "# mnist = tf.keras.datasets.mnist\n",
    "\n",
    "# (x_train, y_train), (x_test, y_test) = mnist.load_data()\n",
    "\n",
    "# x_train = tf.keras.utils.normalize(x_train, axis=1)\n",
    "# x_test = tf.keras.utils.normalize(x_test, axis=1)\n",
    "\n",
    "# x_train = np.where(x_train > 0.15, np.ones_like(x_train), np.zeros_like(x_train))\n",
    "# x_test = np.where(x_test > 0.15, np.ones_like(x_test), np.zeros_like(x_test))"
   ]
  },
  {
   "cell_type": "code",
   "execution_count": 6,
   "metadata": {},
   "outputs": [
    {
     "name": "stdout",
     "output_type": "stream",
     "text": [
      "Epoch 1/5\n",
      "1875/1875 [==============================] - 4s 2ms/step - loss: 0.4860 - accuracy: 0.8556 - val_loss: 0.2889 - val_accuracy: 0.9159\n",
      "Epoch 2/5\n",
      "1875/1875 [==============================] - 3s 1ms/step - loss: 0.2615 - accuracy: 0.9204 - val_loss: 0.2349 - val_accuracy: 0.9324\n",
      "Epoch 3/5\n",
      "1875/1875 [==============================] - 3s 2ms/step - loss: 0.2101 - accuracy: 0.9368 - val_loss: 0.2040 - val_accuracy: 0.9391\n",
      "Epoch 4/5\n",
      "1875/1875 [==============================] - 3s 2ms/step - loss: 0.1783 - accuracy: 0.9457 - val_loss: 0.1984 - val_accuracy: 0.9401\n",
      "Epoch 5/5\n",
      "1875/1875 [==============================] - 3s 2ms/step - loss: 0.1577 - accuracy: 0.9516 - val_loss: 0.1842 - val_accuracy: 0.9436\n"
     ]
    },
    {
     "name": "stderr",
     "output_type": "stream",
     "text": [
      "WARNING:absl:Found untraced functions such as _update_step_xla while saving (showing 1 of 1). These functions will not be directly callable after loading.\n"
     ]
    },
    {
     "name": "stdout",
     "output_type": "stream",
     "text": [
      "INFO:tensorflow:Assets written to: Dense-2-32-2023-01-04-1045.model\\assets\n"
     ]
    },
    {
     "name": "stderr",
     "output_type": "stream",
     "text": [
      "INFO:tensorflow:Assets written to: Dense-2-32-2023-01-04-1045.model\\assets\n"
     ]
    }
   ],
   "source": [
    "num_of_layers = 2\n",
    "layer_size = 32\n",
    "\n",
    "now = datetime.datetime.now()\n",
    "now = now.strftime(\"%Y-%m-%d-%H%M\")\n",
    "NAME = f'Dense-{num_of_layers}-{layer_size}-' + now\n",
    "tensorboard = TensorBoard(log_dir=f\"logs/{NAME}\")\n",
    "\n",
    "model = create_model_dense(num_of_layers, layer_size)\n",
    "model.compile(optimizer='adam', loss='sparse_categorical_crossentropy', metrics=['accuracy'])\n",
    "model.fit(x_train, y_train, epochs=5, validation_data=(x_test, y_test), callbacks=[tensorboard])\n",
    "\n",
    "model.save(NAME + '.model')"
   ]
  },
  {
   "cell_type": "code",
   "execution_count": 7,
   "metadata": {},
   "outputs": [],
   "source": [
    "# params = model.layers[1].get_weights()\n",
    "# weights, biases = params[0], params[1]\n",
    "# print(weights, biases)"
   ]
  },
  {
   "cell_type": "code",
   "execution_count": 8,
   "metadata": {},
   "outputs": [],
   "source": [
    "# num_of_layers = 3\n",
    "# layer_size = 16\n",
    "\n",
    "# NAME = f'RNN-{num_of_layers}-{layer_size}'\n",
    "# tensorboard = TensorBoard(log_dir=f\"logs/{NAME}\")\n",
    "\n",
    "# model = create_model_RNN(num_of_layers, layer_size)\n",
    "# opt = tf.keras.optimizers.Adam(learning_rate=0.001, decay=1e-6)\n",
    "# model.compile(optimizer=opt, loss='sparse_categorical_crossentropy', metrics=['accuracy'])\n",
    "# model.fit(x_train, y_train, epochs=4, validation_data=(x_test, y_test), callbacks=[tensorboard])\n",
    "# model.save(NAME + '.model')"
   ]
  },
  {
   "cell_type": "code",
   "execution_count": 9,
   "metadata": {},
   "outputs": [],
   "source": [
    "# val_loss, val_accuracy = model.evaluate(x_test, y_test)\n",
    "# print(val_loss, val_accuracy)"
   ]
  },
  {
   "cell_type": "code",
   "execution_count": 10,
   "metadata": {},
   "outputs": [],
   "source": [
    "# model = tf.keras.models.load_model('simple-4-16-2022-07-06-0203.model')"
   ]
  },
  {
   "cell_type": "code",
   "execution_count": 11,
   "metadata": {},
   "outputs": [
    {
     "name": "stdout",
     "output_type": "stream",
     "text": [
      "WARNING:tensorflow:Layers in a Sequential model should only have a single input tensor. Received: inputs=(<tf.Tensor 'IteratorGetNext:0' shape=(None, 28, 28) dtype=float32>,). Consider rewriting this model with the Functional API.\n"
     ]
    },
    {
     "name": "stderr",
     "output_type": "stream",
     "text": [
      "WARNING:tensorflow:Layers in a Sequential model should only have a single input tensor. Received: inputs=(<tf.Tensor 'IteratorGetNext:0' shape=(None, 28, 28) dtype=float32>,). Consider rewriting this model with the Functional API.\n"
     ]
    },
    {
     "name": "stdout",
     "output_type": "stream",
     "text": [
      "313/313 [==============================] - 0s 1ms/step\n"
     ]
    }
   ],
   "source": [
    "predictions = model.predict([x_test])"
   ]
  },
  {
   "cell_type": "code",
   "execution_count": 12,
   "metadata": {},
   "outputs": [
    {
     "name": "stdout",
     "output_type": "stream",
     "text": [
      "9798\n"
     ]
    },
    {
     "data": {
      "image/png": "[encoded data removed]",
      "text/plain": [
       "<Figure size 640x480 with 1 Axes>"
      ]
     },
     "metadata": {},
     "output_type": "display_data"
    },
    {
     "data": {
      "image/png": "[encoded data removed]",
      "text/plain": [
       "<Figure size 640x480 with 1 Axes>"
      ]
     },
     "metadata": {},
     "output_type": "display_data"
    },
    {
     "data": {
      "image/png": "[encoded data removed]",
      "text/plain": [
       "<Figure size 640x480 with 1 Axes>"
      ]
     },
     "metadata": {},
     "output_type": "display_data"
    },
    {
     "data": {
      "image/png": "[encoded data removed]",
      "text/plain": [
       "<Figure size 640x480 with 1 Axes>"
      ]
     },
     "metadata": {},
     "output_type": "display_data"
    },
    {
     "data": {
      "image/png": "[encoded data removed]",
      "text/plain": [
       "<Figure size 640x480 with 1 Axes>"
      ]
     },
     "metadata": {},
     "output_type": "display_data"
    },
    {
     "data": {
      "image/png": "[encoded data removed]",
      "text/plain": [
       "<Figure size 640x480 with 1 Axes>"
      ]
     },
     "metadata": {},
     "output_type": "display_data"
    },
    {
     "data": {
      "image/png": "[encoded data removed]",
      "text/plain": [
       "<Figure size 640x480 with 1 Axes>"
      ]
     },
     "metadata": {},
     "output_type": "display_data"
    },
    {
     "data": {
      "image/png": "[encoded data removed]",
      "text/plain": [
       "<Figure size 640x480 with 1 Axes>"
      ]
     },
     "metadata": {},
     "output_type": "display_data"
    },
    {
     "data": {
      "image/png": "[encoded data removed]",
      "text/plain": [
       "<Figure size 640x480 with 1 Axes>"
      ]
     },
     "metadata": {},
     "output_type": "display_data"
    },
    {
     "data": {
      "image/png": "[encoded data removed]",
      "text/plain": [
       "<Figure size 640x480 with 1 Axes>"
      ]
     },
     "metadata": {},
     "output_type": "display_data"
    },
    {
     "data": {
      "image/png": "[encoded data removed]",
      "text/plain": [
       "<Figure size 640x480 with 1 Axes>"
      ]
     },
     "metadata": {},
     "output_type": "display_data"
    },
    {
     "data": {
      "image/png": "[encoded data removed]",
      "text/plain": [
       "<Figure size 640x480 with 1 Axes>"
      ]
     },
     "metadata": {},
     "output_type": "display_data"
    },
    {
     "data": {
      "image/png": "[encoded data removed]",
      "text/plain": [
       "<Figure size 640x480 with 1 Axes>"
      ]
     },
     "metadata": {},
     "output_type": "display_data"
    },
    {
     "data": {
      "image/png": "[encoded data removed]",
      "text/plain": [
       "<Figure size 640x480 with 1 Axes>"
      ]
     },
     "metadata": {},
     "output_type": "display_data"
    },
    {
     "data": {
      "image/png": "[encoded data removed]",
      "text/plain": [
       "<Figure size 640x480 with 1 Axes>"
      ]
     },
     "metadata": {},
     "output_type": "display_data"
    },
    {
     "data": {
      "image/png": "[encoded data removed]",
      "text/plain": [
       "<Figure size 640x480 with 1 Axes>"
      ]
     },
     "metadata": {},
     "output_type": "display_data"
    },
    {
     "data": {
      "image/png": "[encoded data removed]",
      "text/plain": [
       "<Figure size 640x480 with 1 Axes>"
      ]
     },
     "metadata": {},
     "output_type": "display_data"
    },
    {
     "data": {
      "image/png": "[encoded data removed]",
      "text/plain": [
       "<Figure size 640x480 with 1 Axes>"
      ]
     },
     "metadata": {},
     "output_type": "display_data"
    },
    {
     "data": {
      "image/png": "[encoded data removed]",
      "text/plain": [
       "<Figure size 640x480 with 1 Axes>"
      ]
     },
     "metadata": {},
     "output_type": "display_data"
    },
    {
     "data": {
      "image/png": "[encoded data removed]",
      "text/plain": [
       "<Figure size 640x480 with 1 Axes>"
      ]
     },
     "metadata": {},
     "output_type": "display_data"
    },
    {
     "data": {
      "image/png": "[encoded data removed]",
      "text/plain": [
       "<Figure size 640x480 with 1 Axes>"
      ]
     },
     "metadata": {},
     "output_type": "display_data"
    },
    {
     "data": {
      "image/png": "[encoded data removed]",
      "text/plain": [
       "<Figure size 640x480 with 1 Axes>"
      ]
     },
     "metadata": {},
     "output_type": "display_data"
    },
    {
     "data": {
      "image/png": "[encoded data removed]",
      "text/plain": [
       "<Figure size 640x480 with 1 Axes>"
      ]
     },
     "metadata": {},
     "output_type": "display_data"
    },
    {
     "data": {
      "image/png": "[encoded data removed]",
      "text/plain": [
       "<Figure size 640x480 with 1 Axes>"
      ]
     },
     "metadata": {},
     "output_type": "display_data"
    },
    {
     "data": {
      "image/png": "[encoded data removed]",
      "text/plain": [
       "<Figure size 640x480 with 1 Axes>"
      ]
     },
     "metadata": {},
     "output_type": "display_data"
    },
    {
     "data": {
      "image/png": "[encoded data removed]",
      "text/plain": [
       "<Figure size 640x480 with 1 Axes>"
      ]
     },
     "metadata": {},
     "output_type": "display_data"
    },
    {
     "data": {
      "image/png": "[encoded data removed]",
      "text/plain": [
       "<Figure size 640x480 with 1 Axes>"
      ]
     },
     "metadata": {},
     "output_type": "display_data"
    },
    {
     "data": {
      "image/png": "[encoded data removed]",
      "text/plain": [
       "<Figure size 640x480 with 1 Axes>"
      ]
     },
     "metadata": {},
     "output_type": "display_data"
    },
    {
     "data": {
      "image/png": "[encoded data removed]",
      "text/plain": [
       "<Figure size 640x480 with 1 Axes>"
      ]
     },
     "metadata": {},
     "output_type": "display_data"
    },
    {
     "data": {
      "image/png": "[encoded data removed]",
      "text/plain": [
       "<Figure size 640x480 with 1 Axes>"
      ]
     },
     "metadata": {},
     "output_type": "display_data"
    }
   ],
   "source": [
    "begin = np.random.randint(9970)\n",
    "print(begin)\n",
    "for i in range(begin, begin + 30):\n",
    "    plt.figure()\n",
    "    plt.imshow(x_test[i], cmap='gray')\n",
    "    plt.xticks([]), plt.yticks([])\n",
    "    plt.title(f'{np.argmax(predictions[i])}')\n",
    "    plt.show()\n",
    "\n",
    "    # transformed = transform(x_test[i], resize=True, offset=True, rotate=True) \n",
    "    # for img_t in transformed:\n",
    "    #     plt.figure()\n",
    "    #     plt.imshow(img_t, cmap='gray')\n",
    "    #     plt.xticks([]), plt.yticks([])\n",
    "    #     plt.title(f'{np.argmax(predictions[i])}')\n",
    "    #     plt.show()\n",
    "\n",
    "    # plt.figure()\n",
    "    # plt.imshow(transform(x_train[i], resize=True, offset=True), cmap='gray')\n",
    "    # plt.xticks([]), plt.yticks([])\n",
    "    # # plt.title(f'{np.argmax(y_test[i])}')\n",
    "    # plt.title(f'{y_train[i]}')\n",
    "    # plt.show()"
   ]
  }
 ],
 "metadata": {
  "kernelspec": {
   "display_name": "ml",
   "language": "python",
   "name": "python3"
  },
  "language_info": {
   "codemirror_mode": {
    "name": "ipython",
    "version": 3
   },
   "file_extension": ".py",
   "mimetype": "text/x-python",
   "name": "python",
   "nbconvert_exporter": "python",
   "pygments_lexer": "ipython3",
   "version": "3.10.4 | packaged by conda-forge | (main, Mar 30 2022, 08:38:02) [MSC v.1916 64 bit (AMD64)]"
  },
  "orig_nbformat": 4,
  "vscode": {
   "interpreter": {
    "hash": "575b27b03c8f4938561cc9027b66655be84e7082a51e87d8eb0fbf4ab5514768"
   }
  }
 },
 "nbformat": 4,
 "nbformat_minor": 2
}
